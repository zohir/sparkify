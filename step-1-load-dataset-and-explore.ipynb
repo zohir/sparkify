{
 "cells": [
  {
   "cell_type": "code",
   "execution_count": 1,
   "id": "running-shell",
   "metadata": {},
   "outputs": [],
   "source": [
    "from pyspark.sql import SparkSession\n",
    "from pyspark import SparkConf\n",
    "from os.path import abspath\n",
    "\n",
    "from pyspark.sql.functions import isnan, when, count, col, lit\n",
    "from pyspark import StorageLevel\n"
   ]
  },
  {
   "cell_type": "code",
   "execution_count": 2,
   "id": "colored-judge",
   "metadata": {},
   "outputs": [],
   "source": [
    "# Choose the size of the dataset to load and analyze. Must be 'tiny', 'mini' or 'giga'\n",
    "log_file_size = 'giga'\n"
   ]
  },
  {
   "cell_type": "code",
   "execution_count": 3,
   "id": "owned-netscape",
   "metadata": {},
   "outputs": [],
   "source": [
    "warehouse_location = abspath('spark-warehouse')\n",
    "\n",
    "spark = SparkSession \\\n",
    "    .builder \\\n",
    "    .appName(\"sparkify-dea-\"+log_file_size) \\\n",
    "    .config(\"spark.sql.warehouse.dir\", warehouse_location) \\\n",
    "    .config(\"spark.driver.memory\", \"8g\")\\\n",
    "    .enableHiveSupport() \\\n",
    "    .getOrCreate()\n"
   ]
  },
  {
   "cell_type": "markdown",
   "id": "suitable-lying",
   "metadata": {},
   "source": [
    "# Load and Explore the json data file"
   ]
  },
  {
   "cell_type": "code",
   "execution_count": 4,
   "id": "detailed-region",
   "metadata": {},
   "outputs": [],
   "source": [
    "user_logs_hive_table  = log_file_size+\"_user_logs_bin\" "
   ]
  },
  {
   "cell_type": "code",
   "execution_count": 11,
   "id": "indirect-sword",
   "metadata": {},
   "outputs": [],
   "source": [
    "%%time\n",
    "# Load the different user logs file in Hive tables\n",
    "\n",
    "def load_user_logs(log_file_size):\n",
    "\n",
    "    user_log_files = {\n",
    "        \"tiny\" : \"data/sparkify_log_small.json\",\n",
    "        \"mini\" : \"data/mini_sparkify_event_data.json\",\n",
    "        \"giga\" : \"data/sparkify_event_data.json\"\n",
    "    }\n",
    "    \n",
    "    # Load file\n",
    "    file_to_load = user_log_files[log_file_size]\n",
    "    print(\"Loading file \",file_to_load)\n",
    "    df_user_logs = spark.read.json(user_log_files[log_file_size])\n",
    "\n",
    "    # Link DF to temp table\n",
    "    temp_logs_table = log_file_size+\"_user_logs_temp\"\n",
    "    print(\"Saving into temp table \",temp_logs_table)\n",
    "    df_user_logs.createOrReplaceTempView(temp_logs_table)\n",
    "\n",
    "    # Create Hive table with rows and some columns usefull for churn prediction  \n",
    "    destination_logs_table = log_file_size+\"_user_logs_bin\" \n",
    "    print(\"Saving usefull logs into destination Hive table \",destination_logs_table)\n",
    "    spark.sql(\"DROP TABLE IF EXISTS {}\".format(destination_logs_table)).collect()\n",
    "    sql_create_user_logs = \"\"\"\n",
    "        create table {DESTINATION_TABLE}\n",
    "        USING parquet\n",
    "        OPTIONS (header \"true\", inferSchema \"true\")\n",
    "        PARTITIONED BY (userId)\n",
    "        as\n",
    "        (\n",
    "            select \n",
    "                userId, itemInSession, length, page, sessionId, ts\n",
    "            from {ORIGIN_TABLE}\n",
    "            where \n",
    "                level = 'paid' and \n",
    "                userID != ''\n",
    "            order by ts\n",
    "        )\n",
    "    \"\"\".format(**{\n",
    "        'DESTINATION_TABLE' : destination_logs_table,\n",
    "        'ORIGIN_TABLE' : temp_logs_table,\n",
    "    })\n",
    "    spark.sql(sql_create_user_logs).collect()\n",
    "\n",
    "    return destination_logs_table\n",
    "\n",
    "user_logs_hive_table = load_user_logs(log_file_size)"
   ]
  },
  {
   "cell_type": "code",
   "execution_count": 6,
   "id": "frequent-roads",
   "metadata": {},
   "outputs": [
    {
     "data": {
      "text/html": [
       "<div>\n",
       "<style scoped>\n",
       "    .dataframe tbody tr th:only-of-type {\n",
       "        vertical-align: middle;\n",
       "    }\n",
       "\n",
       "    .dataframe tbody tr th {\n",
       "        vertical-align: top;\n",
       "    }\n",
       "\n",
       "    .dataframe thead th {\n",
       "        text-align: right;\n",
       "    }\n",
       "</style>\n",
       "<table border=\"1\" class=\"dataframe\">\n",
       "  <thead>\n",
       "    <tr style=\"text-align: right;\">\n",
       "      <th></th>\n",
       "      <th>itemInSession</th>\n",
       "      <th>length</th>\n",
       "      <th>page</th>\n",
       "      <th>registration</th>\n",
       "      <th>sessionId</th>\n",
       "      <th>ts</th>\n",
       "      <th>userId</th>\n",
       "    </tr>\n",
       "  </thead>\n",
       "  <tbody>\n",
       "    <tr>\n",
       "      <th>0</th>\n",
       "      <td>158</td>\n",
       "      <td>NaN</td>\n",
       "      <td>Home</td>\n",
       "      <td>NaN</td>\n",
       "      <td>230152</td>\n",
       "      <td>1543505724000</td>\n",
       "      <td>1261737</td>\n",
       "    </tr>\n",
       "    <tr>\n",
       "      <th>1</th>\n",
       "      <td>36</td>\n",
       "      <td>NaN</td>\n",
       "      <td>Home</td>\n",
       "      <td>NaN</td>\n",
       "      <td>235136</td>\n",
       "      <td>1543505730000</td>\n",
       "      <td>1261737</td>\n",
       "    </tr>\n",
       "  </tbody>\n",
       "</table>\n",
       "</div>"
      ],
      "text/plain": [
       "   itemInSession  length  page  registration  sessionId             ts  \\\n",
       "0            158     NaN  Home           NaN     230152  1543505724000   \n",
       "1             36     NaN  Home           NaN     235136  1543505730000   \n",
       "\n",
       "    userId  \n",
       "0  1261737  \n",
       "1  1261737  "
      ]
     },
     "execution_count": 6,
     "metadata": {},
     "output_type": "execute_result"
    }
   ],
   "source": [
    "spark.sql(\"select * from {} limit 10\".format(user_logs_hive_table)).toPandas().head(2)"
   ]
  },
  {
   "cell_type": "markdown",
   "id": "solid-belize",
   "metadata": {},
   "source": [
    "## List of 18 fields present in the original big data file"
   ]
  },
  {
   "cell_type": "code",
   "execution_count": 18,
   "id": "unauthorized-israeli",
   "metadata": {},
   "outputs": [
    {
     "name": "stdout",
     "output_type": "stream",
     "text": [
      "+-------------+---------+-------+\n",
      "|     col_name|data_type|comment|\n",
      "+-------------+---------+-------+\n",
      "|       artist|   string|   null|\n",
      "|         auth|   string|   null|\n",
      "|    firstName|   string|   null|\n",
      "|       gender|   string|   null|\n",
      "|itemInSession|   bigint|   null|\n",
      "|     lastName|   string|   null|\n",
      "|       length|   double|   null|\n",
      "|        level|   string|   null|\n",
      "|     location|   string|   null|\n",
      "|       method|   string|   null|\n",
      "|         page|   string|   null|\n",
      "| registration|   bigint|   null|\n",
      "|    sessionId|   bigint|   null|\n",
      "|         song|   string|   null|\n",
      "|       status|   bigint|   null|\n",
      "|           ts|   bigint|   null|\n",
      "|    userAgent|   string|   null|\n",
      "|       userId|   string|   null|\n",
      "+-------------+---------+-------+\n",
      "\n"
     ]
    }
   ],
   "source": [
    "spark.sql(f\"describe table {user_logs_hive_table}\").show()"
   ]
  },
  {
   "cell_type": "markdown",
   "id": "surgical-hearing",
   "metadata": {},
   "source": [
    "## List of pages (~= actions) that took the users during the entire period"
   ]
  },
  {
   "cell_type": "code",
   "execution_count": 21,
   "id": "superb-polyester",
   "metadata": {},
   "outputs": [
    {
     "name": "stdout",
     "output_type": "stream",
     "text": [
      "+-------------------------+\n",
      "|page                     |\n",
      "+-------------------------+\n",
      "|Cancel                   |\n",
      "|Submit Downgrade         |\n",
      "|Thumbs Down              |\n",
      "|Home                     |\n",
      "|Downgrade                |\n",
      "|Roll Advert              |\n",
      "|Logout                   |\n",
      "|Save Settings            |\n",
      "|Cancellation Confirmation|\n",
      "|About                    |\n",
      "|Submit Registration      |\n",
      "|Settings                 |\n",
      "|Login                    |\n",
      "|Register                 |\n",
      "|Add to Playlist          |\n",
      "|Add Friend               |\n",
      "|NextSong                 |\n",
      "|Thumbs Up                |\n",
      "|Help                     |\n",
      "|Upgrade                  |\n",
      "|Error                    |\n",
      "|Submit Upgrade           |\n",
      "+-------------------------+\n",
      "\n",
      "CPU times: user 4.32 ms, sys: 2.93 ms, total: 7.25 ms\n",
      "Wall time: 22.9 s\n"
     ]
    }
   ],
   "source": [
    "%%time\n",
    "df_distinct_pages = spark.sql(f\"select distinct(page) from {user_logs_hive_table}\")\n",
    "df_distinct_pages.show(100, truncate=False)\n"
   ]
  },
  {
   "cell_type": "markdown",
   "id": "antique-writing",
   "metadata": {},
   "source": [
    "***\n",
    "# Store some usefull logs into a Hive table with data compression\n",
    "I will focus on the fields and rows that:\n",
    "- are related to an authentified paying user\n",
    "- could not be used by features to discriminate users based on their ethny, gender, location...\n"
   ]
  },
  {
   "cell_type": "markdown",
   "id": "accepted-calvin",
   "metadata": {},
   "source": [
    "## Explore the information in the main fields\n",
    "\n",
    "### the tiny file \"sparkify_log_small.json\" \n",
    "- contains 10 K logs about 964 users\n",
    "- The logs covers a period of 3 days between the 19 and the 21 of December 2017\n",
    "\n",
    "### the mini file \"mini_sparkify_event_data.json\" \n",
    "- contains 222 K logs about 165 users\n",
    "- The logs covers a period of 2 months between the first of October 2018 and the third of December 2018 \n",
    "\n",
    "### the giga file \"sparkify_event_data.json\" \n",
    "- contains 2 M logs over 16185 users\n",
    "- The logs covers a period of 2 months between the first of October 2018 and the third of December 2018 \n"
   ]
  },
  {
   "cell_type": "code",
   "execution_count": 7,
   "id": "hidden-visitor",
   "metadata": {},
   "outputs": [
    {
     "name": "stdout",
     "output_type": "stream",
     "text": [
      "+-------------+-------------------+-------------------+--------+\n",
      "|nb_logs_total|min_dt             |max_dt             |nb_users|\n",
      "+-------------+-------------------+-------------------+--------+\n",
      "|20595828     |2018-10-01 02:00:01|2018-12-01 00:59:59|16185   |\n",
      "+-------------+-------------------+-------------------+--------+\n",
      "\n"
     ]
    }
   ],
   "source": [
    "sql_explore_ts = \"\"\"\n",
    "    select \n",
    "        a.nb_logs_total,\n",
    "        from_unixtime(min_ts) min_dt, \n",
    "        from_unixtime(max_ts) max_dt,\n",
    "        a.nb_users\n",
    "    from \n",
    "    (\n",
    "        select \n",
    "            count(*) nb_logs_total, \n",
    "            count(distinct(userId)) nb_users,\n",
    "            min(ts/1000) min_ts, max(ts/1000) max_ts \n",
    "        from {USER_LOG_HIVE_TABLE}\n",
    "    ) a\n",
    "\"\"\".format(**{\n",
    "    'USER_LOG_HIVE_TABLE' : user_logs_hive_table\n",
    "    })\n",
    "\n",
    "spark.sql(sql_explore_ts).show(truncate = False)\n"
   ]
  },
  {
   "cell_type": "markdown",
   "id": "seeing-little",
   "metadata": {},
   "source": [
    "***\n",
    "# Agregate data by user"
   ]
  },
  {
   "cell_type": "code",
   "execution_count": 5,
   "id": "biblical-anderson",
   "metadata": {},
   "outputs": [],
   "source": [
    "import time, datetime\n",
    "\n",
    "default_evaluation_period_config = {\n",
    "    \"tiny\" : { # the last one day of the 3 days logs\n",
    "        \"start_date_str\" : \"21/12/2017\",\n",
    "        \"end_date_str\" : \"22/12/2018\",\n",
    "   },\n",
    "    \"mini\" : { # the last two weeks of the 2 months logs\n",
    "        \"start_date_str\" : \"20/11/2018\",\n",
    "        \"end_date_str\" : \"04/12/2018\",\n",
    "   },\n",
    "    \"giga\" : { # the last two weeks of the 2 months logs\n",
    "        \"start_date_str\" : \"20/11/2018\",\n",
    "        \"end_date_str\" : \"04/12/2018\",\n",
    "   }\n",
    "}"
   ]
  },
  {
   "cell_type": "code",
   "execution_count": 6,
   "id": "specialized-turkish",
   "metadata": {},
   "outputs": [],
   "source": [
    "# Convert the evaluation period start-stop to tms\n",
    "\n",
    "user_logs_table = user_logs_hive_table\n",
    "evaluation_period_config = default_evaluation_period_config\n",
    "\n",
    "evaluation_start_date_str = evaluation_period_config[log_file_size][\"start_date_str\"]\n",
    "evaluation_end_date_str = evaluation_period_config[log_file_size][\"end_date_str\"]\n",
    "\n",
    "evaluation_start_dt = datetime.datetime.strptime(evaluation_start_date_str,\"%d/%m/%Y\") \n",
    "evaluation_start_tms = int(datetime.datetime.timestamp(evaluation_start_dt)) * 1000\n",
    "\n",
    "evaluation_end_dt = datetime.datetime.strptime(evaluation_end_date_str,\"%d/%m/%Y\") \n",
    "evaluation_end_tms = int(datetime.datetime.timestamp(evaluation_end_dt)) * 1000\n",
    "\n",
    "user_daily_logs_table = log_file_size + '_user_daily_logs_' + evaluation_start_date_str.replace('/','_')\n",
    "user_churn_table = log_file_size + '_user_churn_' + evaluation_start_date_str.replace('/','_')\n",
    "user_data_table = log_file_size + '_user_data_' + evaluation_start_date_str.replace('/','_')"
   ]
  },
  {
   "cell_type": "markdown",
   "id": "heated-console",
   "metadata": {},
   "source": [
    "***\n",
    "### Generate a variable SQL code instead of using heavier UDF \n",
    "A list of pages was created to represent the actions that the users took and that can be related to Churn.  \n",
    "For each element of this list, parts of the SQL statement will be generated to have some features in the final user table (ex: count and average time the user as for a song or add a friend) "
   ]
  },
  {
   "cell_type": "code",
   "execution_count": 9,
   "id": "favorite-province",
   "metadata": {},
   "outputs": [],
   "source": [
    "pages_of_interest = ['NextSong', 'Thumbs Up', 'Add to Playlist', 'Add Friend', 'Downgrade',\\\n",
    "                     'Thumbs Down', 'Help', 'Save Settings', 'Error', 'Submit Downgrade']  \n",
    "\n",
    "list_test_metrics_of_interest = [] \n",
    "list_count_metrics_of_interest = [] \n",
    "for poi in pages_of_interest:\n",
    "    k = poi.replace(' ','')\n",
    "    list_test_metrics_of_interest.append(f\" if(page='{poi}',1,0) is_{k}\")\n",
    "    list_count_metrics_of_interest.append(f\"sum(is_{k}) nb_{k}\")\n",
    "    \n",
    "str_test_metrics_of_interest = \", \".join(list_test_metrics_of_interest)\n",
    "str_count_metrics_of_interest = \", \".join(list_count_metrics_of_interest)"
   ]
  },
  {
   "cell_type": "markdown",
   "id": "southeast-bicycle",
   "metadata": {},
   "source": [
    "***\n",
    "### Create a table with information of daily activities of the users based only on the logs previous to the evaluation period\n",
    "This table creation use an SQL injection technique for the variable parts pf the statements.  \n",
    "The use of UDF was discarded this time for performance concerns"
   ]
  },
  {
   "cell_type": "code",
   "execution_count": 34,
   "id": "vocal-debate",
   "metadata": {},
   "outputs": [
    {
     "name": "stdout",
     "output_type": "stream",
     "text": [
      "\n",
      "    create table giga_user_daily_logs_20_11_2018 \n",
      "        USING parquet\n",
      "        PARTITIONED BY (userId)\n",
      "    as (\n",
      "        select\n",
      "            userId, days_before_eval, count(*) nb_logs, \n",
      "            count(distinct(sessionId)) nb_sessionId,\n",
      "            sum(int(length)) sum_length,\n",
      "            sum(is_NextSong) nb_NextSong, sum(is_ThumbsUp) nb_ThumbsUp, sum(is_AddtoPlaylist) nb_AddtoPlaylist, sum(is_AddFriend) nb_AddFriend, sum(is_Downgrade) nb_Downgrade, sum(is_ThumbsDown) nb_ThumbsDown, sum(is_Help) nb_Help, sum(is_SaveSettings) nb_SaveSettings, sum(is_Error) nb_Error, sum(is_SubmitDowngrade) nb_SubmitDowngrade\n",
      "        from \n",
      "        (\n",
      "            select *,\n",
      "            int((1542668400000 - ts)/86400000) days_before_eval,\n",
      "             if(page='NextSong',1,0) is_NextSong,  if(page='Thumbs Up',1,0) is_ThumbsUp,  if(page='Add to Playlist',1,0) is_AddtoPlaylist,  if(page='Add Friend',1,0) is_AddFriend,  if(page='Downgrade',1,0) is_Downgrade,  if(page='Thumbs Down',1,0) is_ThumbsDown,  if(page='Help',1,0) is_Help,  if(page='Save Settings',1,0) is_SaveSettings,  if(page='Error',1,0) is_Error,  if(page='Submit Downgrade',1,0) is_SubmitDowngrade\n",
      "            from giga_user_logs_temp\n",
      "            where ts <= 1542668400000\n",
      "        ) a\n",
      "        group by userId, days_before_eval\n",
      "        order by userId, days_before_eval desc\n",
      "    )\n",
      "\n",
      "CPU times: user 47 ms, sys: 14.3 ms, total: 61.3 ms\n",
      "Wall time: 5min 14s\n"
     ]
    },
    {
     "data": {
      "text/html": [
       "<div>\n",
       "<style scoped>\n",
       "    .dataframe tbody tr th:only-of-type {\n",
       "        vertical-align: middle;\n",
       "    }\n",
       "\n",
       "    .dataframe tbody tr th {\n",
       "        vertical-align: top;\n",
       "    }\n",
       "\n",
       "    .dataframe thead th {\n",
       "        text-align: right;\n",
       "    }\n",
       "</style>\n",
       "<table border=\"1\" class=\"dataframe\">\n",
       "  <thead>\n",
       "    <tr style=\"text-align: right;\">\n",
       "      <th></th>\n",
       "      <th>days_before_eval</th>\n",
       "      <th>nb_logs</th>\n",
       "      <th>nb_sessionId</th>\n",
       "      <th>sum_length</th>\n",
       "      <th>nb_NextSong</th>\n",
       "      <th>nb_ThumbsUp</th>\n",
       "      <th>nb_AddtoPlaylist</th>\n",
       "      <th>nb_AddFriend</th>\n",
       "      <th>nb_Downgrade</th>\n",
       "      <th>nb_ThumbsDown</th>\n",
       "      <th>nb_Help</th>\n",
       "      <th>nb_SaveSettings</th>\n",
       "      <th>nb_Error</th>\n",
       "      <th>nb_SubmitDowngrade</th>\n",
       "      <th>userId</th>\n",
       "    </tr>\n",
       "  </thead>\n",
       "  <tbody>\n",
       "    <tr>\n",
       "      <th>0</th>\n",
       "      <td>49</td>\n",
       "      <td>281</td>\n",
       "      <td>2</td>\n",
       "      <td>59114</td>\n",
       "      <td>228</td>\n",
       "      <td>11</td>\n",
       "      <td>7</td>\n",
       "      <td>2</td>\n",
       "      <td>2</td>\n",
       "      <td>1</td>\n",
       "      <td>2</td>\n",
       "      <td>0</td>\n",
       "      <td>0</td>\n",
       "      <td>0</td>\n",
       "      <td>1564221</td>\n",
       "    </tr>\n",
       "    <tr>\n",
       "      <th>1</th>\n",
       "      <td>48</td>\n",
       "      <td>156</td>\n",
       "      <td>3</td>\n",
       "      <td>34649</td>\n",
       "      <td>133</td>\n",
       "      <td>5</td>\n",
       "      <td>3</td>\n",
       "      <td>5</td>\n",
       "      <td>1</td>\n",
       "      <td>1</td>\n",
       "      <td>3</td>\n",
       "      <td>0</td>\n",
       "      <td>1</td>\n",
       "      <td>0</td>\n",
       "      <td>1564221</td>\n",
       "    </tr>\n",
       "    <tr>\n",
       "      <th>2</th>\n",
       "      <td>47</td>\n",
       "      <td>355</td>\n",
       "      <td>1</td>\n",
       "      <td>72250</td>\n",
       "      <td>286</td>\n",
       "      <td>19</td>\n",
       "      <td>12</td>\n",
       "      <td>12</td>\n",
       "      <td>3</td>\n",
       "      <td>3</td>\n",
       "      <td>1</td>\n",
       "      <td>0</td>\n",
       "      <td>0</td>\n",
       "      <td>0</td>\n",
       "      <td>1564221</td>\n",
       "    </tr>\n",
       "    <tr>\n",
       "      <th>3</th>\n",
       "      <td>46</td>\n",
       "      <td>298</td>\n",
       "      <td>1</td>\n",
       "      <td>63255</td>\n",
       "      <td>255</td>\n",
       "      <td>11</td>\n",
       "      <td>6</td>\n",
       "      <td>9</td>\n",
       "      <td>0</td>\n",
       "      <td>1</td>\n",
       "      <td>3</td>\n",
       "      <td>0</td>\n",
       "      <td>0</td>\n",
       "      <td>0</td>\n",
       "      <td>1564221</td>\n",
       "    </tr>\n",
       "    <tr>\n",
       "      <th>4</th>\n",
       "      <td>45</td>\n",
       "      <td>269</td>\n",
       "      <td>5</td>\n",
       "      <td>53160</td>\n",
       "      <td>225</td>\n",
       "      <td>11</td>\n",
       "      <td>7</td>\n",
       "      <td>1</td>\n",
       "      <td>5</td>\n",
       "      <td>3</td>\n",
       "      <td>0</td>\n",
       "      <td>0</td>\n",
       "      <td>0</td>\n",
       "      <td>0</td>\n",
       "      <td>1564221</td>\n",
       "    </tr>\n",
       "  </tbody>\n",
       "</table>\n",
       "</div>"
      ],
      "text/plain": [
       "   days_before_eval  nb_logs  nb_sessionId  sum_length  nb_NextSong  \\\n",
       "0                49      281             2       59114          228   \n",
       "1                48      156             3       34649          133   \n",
       "2                47      355             1       72250          286   \n",
       "3                46      298             1       63255          255   \n",
       "4                45      269             5       53160          225   \n",
       "\n",
       "   nb_ThumbsUp  nb_AddtoPlaylist  nb_AddFriend  nb_Downgrade  nb_ThumbsDown  \\\n",
       "0           11                 7             2             2              1   \n",
       "1            5                 3             5             1              1   \n",
       "2           19                12            12             3              3   \n",
       "3           11                 6             9             0              1   \n",
       "4           11                 7             1             5              3   \n",
       "\n",
       "   nb_Help  nb_SaveSettings  nb_Error  nb_SubmitDowngrade   userId  \n",
       "0        2                0         0                   0  1564221  \n",
       "1        3                0         1                   0  1564221  \n",
       "2        1                0         0                   0  1564221  \n",
       "3        3                0         0                   0  1564221  \n",
       "4        0                0         0                   0  1564221  "
      ]
     },
     "execution_count": 34,
     "metadata": {},
     "output_type": "execute_result"
    }
   ],
   "source": [
    "%%time\n",
    "\n",
    "spark.sql(\"DROP TABLE IF EXISTS {}\".format(user_daily_logs_table)).collect()                            \n",
    "\n",
    "sql_create_user_daily_logs = \"\"\"\n",
    "    create table {USER_DAILY_LOGS_TABLE} \n",
    "        USING parquet\n",
    "        PARTITIONED BY (userId)\n",
    "    as (\n",
    "        select\n",
    "            userId, days_before_eval, count(*) nb_logs, \n",
    "            count(distinct(sessionId)) nb_sessionId,\n",
    "            sum(int(length)) sum_length,\n",
    "            {COUNT_METRICS_OF_INTEREST}\n",
    "        from \n",
    "        (\n",
    "            select *,\n",
    "            int(({EVALUATION_START_TS} - ts)/86400000) days_before_eval,\n",
    "            {TEST_METRICS_OF_INTEREST}\n",
    "            from {LOG_TABLE}\n",
    "            where ts <= {EVALUATION_START_TS}\n",
    "        ) a\n",
    "        group by userId, days_before_eval\n",
    "        order by userId, days_before_eval desc\n",
    "    )\n",
    "\"\"\".format(**{\n",
    "        \"EVALUATION_START_TS\" : evaluation_start_tms, \n",
    "        \"USER_DAILY_LOGS_TABLE\" : user_daily_logs_table,\n",
    "        \"LOG_TABLE\" : user_logs_table,\n",
    "        \"TEST_METRICS_OF_INTEREST\" : str_test_metrics_of_interest,\n",
    "        \"COUNT_METRICS_OF_INTEREST\" : str_count_metrics_of_interest\n",
    "    })\n",
    "print(sql_create_user_daily_logs)\n",
    "ret_sql_user_daily_logs = spark.sql(sql_create_user_daily_logs).collect()\n",
    "\n",
    "spark.sql(\"select * from {} limit 10\".format(user_daily_logs_table)).toPandas().head(5)"
   ]
  },
  {
   "cell_type": "code",
   "execution_count": 39,
   "id": "fifth-stream",
   "metadata": {},
   "outputs": [
    {
     "name": "stdout",
     "output_type": "stream",
     "text": [
      "+----------+\n",
      "|nb_entries|\n",
      "+----------+\n",
      "|    248995|\n",
      "+----------+\n",
      "\n"
     ]
    }
   ],
   "source": [
    "# Number of users-days entries is 250 K. \n",
    "# We are starting to get a dataset manageable by 'classic' ml libraries and work stations\n",
    "\n",
    "spark.sql(\"select count(*) nb_entries from {}\".format(user_daily_logs_table)).show(10)"
   ]
  },
  {
   "cell_type": "markdown",
   "id": "automatic-counter",
   "metadata": {},
   "source": [
    "***\n",
    "# Days of activity that we have available for each user\n",
    "For most users we have less than 20 days of data for the two months period "
   ]
  },
  {
   "cell_type": "code",
   "execution_count": 60,
   "id": "statistical-wyoming",
   "metadata": {},
   "outputs": [
    {
     "data": {
      "image/png": "[encoded data removed]",
      "text/plain": [
       "<Figure size 432x288 with 1 Axes>"
      ]
     },
     "metadata": {
      "needs_background": "light"
     },
     "output_type": "display_data"
    }
   ],
   "source": [
    "\n",
    "df_days_of_activity_by_user = spark.sql(\"select userId, count(*) nb_days from {} group by userId\".format(user_daily_logs_table))\n",
    "df_days_of_activity_by_user.persist()\n",
    "pdf_days_of_activity_by_user = df_days_of_activity_by_user.toPandas()\n",
    "\n",
    "pdf_days_of_activity_by_user.plot.hist(bins=50);"
   ]
  },
  {
   "cell_type": "markdown",
   "id": "communist-carolina",
   "metadata": {},
   "source": [
    "***\n",
    "# Active users per day\n",
    "- We have between 3 K and 6K of daily active users.\n",
    "- During the two months, we have lost almost 2 K of maximum active users per day \n",
    "- The active users double between different days of the week "
   ]
  },
  {
   "cell_type": "code",
   "execution_count": 68,
   "id": "rational-chapel",
   "metadata": {},
   "outputs": [
    {
     "data": {
      "image/png": "[encoded data removed]",
      "text/plain": [
       "<Figure size 432x288 with 1 Axes>"
      ]
     },
     "metadata": {
      "needs_background": "light"
     },
     "output_type": "display_data"
    }
   ],
   "source": [
    "df_active_users_per_day = spark.sql(\"select (- days_before_eval) days_ago, count(*) nb_users from {} group by days_before_eval order by days_before_eval\".format(user_daily_logs_table))\n",
    "pdf_active_users_per_day = df_active_users_per_day.toPandas()\n",
    "pdf_active_users_per_day.plot(x='days_ago', y='nb_users');"
   ]
  },
  {
   "cell_type": "markdown",
   "id": "single-estonia",
   "metadata": {},
   "source": [
    "***\n",
    "### Users leave regularly the service\n",
    "We have between 75 and 175 users leaving or downgrading their service every day.  \n",
    "It seems stable.  \n",
    "Note: A user that downgrade or leave on day X and downgrade or leave on days X+b will be considered twice in this visualization\n"
   ]
  },
  {
   "cell_type": "code",
   "execution_count": 90,
   "id": "traditional-queue",
   "metadata": {},
   "outputs": [
    {
     "data": {
      "image/png": "[encoded data removed]",
      "text/plain": [
       "<Figure size 432x288 with 1 Axes>"
      ]
     },
     "metadata": {
      "needs_background": "light"
     },
     "output_type": "display_data"
    }
   ],
   "source": [
    "sql_user_churn_per_day = \"\"\"\n",
    "\n",
    "    select \n",
    "        days_ago, count(*) nb_users\n",
    "    from\n",
    "    (\n",
    "        select userID,\n",
    "        max(int( (ts - {EVALUATION_START_TS} - (14*86400000))/86400000)) days_ago\n",
    "        from {LOG_TABLE}\n",
    "        where \n",
    "            page in('Cancellation Confirmation', 'Submit Downgrade')\n",
    "        group by userId\n",
    "\n",
    "    ) group by days_ago\n",
    "    order by days_ago\n",
    "\"\"\".format(**{\n",
    "        \"EVALUATION_START_TS\" : evaluation_start_tms,\n",
    "        \"EVALUATION_END_TS\" : evaluation_end_tms,\n",
    "        \"LOG_TABLE\" : user_logs_table\n",
    "    })\n",
    "\n",
    "df_user_churn_per_day = spark.sql(sql_user_churn_per_day)\n",
    "pdf_user_churn_per_day = df_user_churn_per_day.toPandas()\n",
    "\n",
    "\n",
    "pdf_user_churn_per_day.plot(x='days_ago', y='nb_users');"
   ]
  },
  {
   "cell_type": "markdown",
   "id": "random-verification",
   "metadata": {},
   "source": [
    "***\n",
    "### Create a table with all the userID that will cancel or downgrade their contract during the evaluation period"
   ]
  },
  {
   "cell_type": "code",
   "execution_count": 7,
   "id": "killing-participant",
   "metadata": {},
   "outputs": [
    {
     "name": "stdout",
     "output_type": "stream",
     "text": [
      "CPU times: user 39.8 ms, sys: 16.2 ms, total: 56.1 ms\n",
      "Wall time: 4min 59s\n"
     ]
    }
   ],
   "source": [
    "%%time\n",
    "spark.sql(\"DROP TABLE IF EXISTS {}\".format(user_churn_table)).collect()                            \n",
    "\n",
    "sql_create_user_churn = \"\"\"\n",
    "    create table {USER_CHURN_TABLE} \n",
    "        USING parquet\n",
    "        PARTITIONED BY (userId)\n",
    "    as (\n",
    "        select userID,  1 churn\n",
    "        from {LOG_TABLE}\n",
    "        where \n",
    "            page in('Cancellation Confirmation', 'Submit Downgrade')\n",
    "            and ts between {EVALUATION_START_TS} and {EVALUATION_END_TS}\n",
    "        group by userId\n",
    "        )\n",
    "\"\"\".format(**{\n",
    "        \"EVALUATION_START_TS\" : evaluation_start_tms,\n",
    "        \"EVALUATION_END_TS\" : evaluation_end_tms,\n",
    "        \"USER_CHURN_TABLE\" : user_churn_table,\n",
    "        \"LOG_TABLE\" : user_logs_table\n",
    "    })\n",
    "\n",
    "ret_sql_user_daily_logs = spark.sql(sql_create_user_churn).collect()"
   ]
  },
  {
   "cell_type": "markdown",
   "id": "crucial-neutral",
   "metadata": {},
   "source": [
    "### Generate a variable SQL code instead of using heavier UDF "
   ]
  },
  {
   "cell_type": "code",
   "execution_count": 8,
   "id": "pacific-theology",
   "metadata": {},
   "outputs": [],
   "source": [
    "pages_of_interest = ['NextSong', 'Thumbs Up', 'Add to Playlist', 'Add Friend', 'Downgrade',\\\n",
    "                     'Thumbs Down', 'Help', 'Save Settings', 'Error', 'Submit Downgrade', 'logs']  \n",
    "\n",
    "list_user_stats_on_metrics_of_interest = [] \n",
    "for poi in pages_of_interest:\n",
    "    k = poi.replace(' ','')\n",
    "    list_user_stats_on_metrics_of_interest.append(f\" sum(nb_{k}) sum_nb_{k}, avg(nb_{k}) avg_nb_{k}, avg(nb_{k}/nb_logs) avg_pct_{k}  \")\n",
    "        \n",
    "str_user_stats_on_metrics_of_interest = \", \".join(list_user_stats_on_metrics_of_interest)"
   ]
  },
  {
   "cell_type": "markdown",
   "id": "underlying-findings",
   "metadata": {},
   "source": [
    "***\n",
    "### Create a table with all the user information agregated in one row per user, including the churn label"
   ]
  },
  {
   "cell_type": "code",
   "execution_count": 9,
   "id": "auburn-algebra",
   "metadata": {},
   "outputs": [
    {
     "name": "stdout",
     "output_type": "stream",
     "text": [
      "CPU times: user 368 ms, sys: 64.6 ms, total: 433 ms\n",
      "Wall time: 1min 14s\n"
     ]
    },
    {
     "data": {
      "text/html": [
       "<div>\n",
       "<style scoped>\n",
       "    .dataframe tbody tr th:only-of-type {\n",
       "        vertical-align: middle;\n",
       "    }\n",
       "\n",
       "    .dataframe tbody tr th {\n",
       "        vertical-align: top;\n",
       "    }\n",
       "\n",
       "    .dataframe thead th {\n",
       "        text-align: right;\n",
       "    }\n",
       "</style>\n",
       "<table border=\"1\" class=\"dataframe\">\n",
       "  <thead>\n",
       "    <tr style=\"text-align: right;\">\n",
       "      <th></th>\n",
       "      <th>userId</th>\n",
       "      <th>max_days_before_eval</th>\n",
       "      <th>active_days</th>\n",
       "      <th>avg_nb_session_per_day</th>\n",
       "      <th>avg_length_per_day</th>\n",
       "      <th>avg_length_per_session</th>\n",
       "      <th>sum_nb_NextSong</th>\n",
       "      <th>avg_nb_NextSong</th>\n",
       "      <th>avg_pct_NextSong</th>\n",
       "      <th>sum_nb_ThumbsUp</th>\n",
       "      <th>...</th>\n",
       "      <th>avg_nb_Error</th>\n",
       "      <th>avg_pct_Error</th>\n",
       "      <th>sum_nb_SubmitDowngrade</th>\n",
       "      <th>avg_nb_SubmitDowngrade</th>\n",
       "      <th>avg_pct_SubmitDowngrade</th>\n",
       "      <th>sum_nb_logs</th>\n",
       "      <th>avg_nb_logs</th>\n",
       "      <th>avg_pct_logs</th>\n",
       "      <th>churn</th>\n",
       "      <th>avg_active_days</th>\n",
       "    </tr>\n",
       "  </thead>\n",
       "  <tbody>\n",
       "    <tr>\n",
       "      <th>0</th>\n",
       "      <td>1169050</td>\n",
       "      <td>50</td>\n",
       "      <td>41</td>\n",
       "      <td>1.487805</td>\n",
       "      <td>31062.292683</td>\n",
       "      <td>24612.613821</td>\n",
       "      <td>5139</td>\n",
       "      <td>125.341463</td>\n",
       "      <td>0.821971</td>\n",
       "      <td>274</td>\n",
       "      <td>...</td>\n",
       "      <td>0.121951</td>\n",
       "      <td>0.000509</td>\n",
       "      <td>1</td>\n",
       "      <td>0.024390</td>\n",
       "      <td>0.000400</td>\n",
       "      <td>6147</td>\n",
       "      <td>149.926829</td>\n",
       "      <td>1.0</td>\n",
       "      <td>0</td>\n",
       "      <td>0.820000</td>\n",
       "    </tr>\n",
       "    <tr>\n",
       "      <th>1</th>\n",
       "      <td>1105878</td>\n",
       "      <td>50</td>\n",
       "      <td>40</td>\n",
       "      <td>1.350000</td>\n",
       "      <td>26677.750000</td>\n",
       "      <td>22427.400000</td>\n",
       "      <td>4279</td>\n",
       "      <td>106.975000</td>\n",
       "      <td>0.831642</td>\n",
       "      <td>191</td>\n",
       "      <td>...</td>\n",
       "      <td>0.100000</td>\n",
       "      <td>0.000510</td>\n",
       "      <td>1</td>\n",
       "      <td>0.025000</td>\n",
       "      <td>0.000115</td>\n",
       "      <td>5051</td>\n",
       "      <td>126.275000</td>\n",
       "      <td>1.0</td>\n",
       "      <td>1</td>\n",
       "      <td>0.800000</td>\n",
       "    </tr>\n",
       "    <tr>\n",
       "      <th>2</th>\n",
       "      <td>1660035</td>\n",
       "      <td>50</td>\n",
       "      <td>37</td>\n",
       "      <td>1.378378</td>\n",
       "      <td>26552.000000</td>\n",
       "      <td>20413.504505</td>\n",
       "      <td>3974</td>\n",
       "      <td>107.405405</td>\n",
       "      <td>0.794230</td>\n",
       "      <td>201</td>\n",
       "      <td>...</td>\n",
       "      <td>0.189189</td>\n",
       "      <td>0.000785</td>\n",
       "      <td>1</td>\n",
       "      <td>0.027027</td>\n",
       "      <td>0.000106</td>\n",
       "      <td>4731</td>\n",
       "      <td>127.864865</td>\n",
       "      <td>1.0</td>\n",
       "      <td>0</td>\n",
       "      <td>0.740000</td>\n",
       "    </tr>\n",
       "    <tr>\n",
       "      <th>3</th>\n",
       "      <td>1824042</td>\n",
       "      <td>50</td>\n",
       "      <td>39</td>\n",
       "      <td>1.410256</td>\n",
       "      <td>20807.666667</td>\n",
       "      <td>14984.153846</td>\n",
       "      <td>3251</td>\n",
       "      <td>83.358974</td>\n",
       "      <td>0.810777</td>\n",
       "      <td>315</td>\n",
       "      <td>...</td>\n",
       "      <td>0.076923</td>\n",
       "      <td>0.001261</td>\n",
       "      <td>0</td>\n",
       "      <td>0.000000</td>\n",
       "      <td>0.000000</td>\n",
       "      <td>3994</td>\n",
       "      <td>102.410256</td>\n",
       "      <td>1.0</td>\n",
       "      <td>1</td>\n",
       "      <td>0.780000</td>\n",
       "    </tr>\n",
       "    <tr>\n",
       "      <th>4</th>\n",
       "      <td>1355031</td>\n",
       "      <td>49</td>\n",
       "      <td>35</td>\n",
       "      <td>1.542857</td>\n",
       "      <td>35868.457143</td>\n",
       "      <td>27270.254762</td>\n",
       "      <td>5031</td>\n",
       "      <td>143.742857</td>\n",
       "      <td>0.819464</td>\n",
       "      <td>241</td>\n",
       "      <td>...</td>\n",
       "      <td>0.200000</td>\n",
       "      <td>0.000822</td>\n",
       "      <td>2</td>\n",
       "      <td>0.057143</td>\n",
       "      <td>0.000394</td>\n",
       "      <td>5995</td>\n",
       "      <td>171.285714</td>\n",
       "      <td>1.0</td>\n",
       "      <td>1</td>\n",
       "      <td>0.714286</td>\n",
       "    </tr>\n",
       "  </tbody>\n",
       "</table>\n",
       "<p>5 rows × 41 columns</p>\n",
       "</div>"
      ],
      "text/plain": [
       "    userId  max_days_before_eval  active_days  avg_nb_session_per_day  \\\n",
       "0  1169050                    50           41                1.487805   \n",
       "1  1105878                    50           40                1.350000   \n",
       "2  1660035                    50           37                1.378378   \n",
       "3  1824042                    50           39                1.410256   \n",
       "4  1355031                    49           35                1.542857   \n",
       "\n",
       "   avg_length_per_day  avg_length_per_session  sum_nb_NextSong  \\\n",
       "0        31062.292683            24612.613821             5139   \n",
       "1        26677.750000            22427.400000             4279   \n",
       "2        26552.000000            20413.504505             3974   \n",
       "3        20807.666667            14984.153846             3251   \n",
       "4        35868.457143            27270.254762             5031   \n",
       "\n",
       "   avg_nb_NextSong  avg_pct_NextSong  sum_nb_ThumbsUp  ...  avg_nb_Error  \\\n",
       "0       125.341463          0.821971              274  ...      0.121951   \n",
       "1       106.975000          0.831642              191  ...      0.100000   \n",
       "2       107.405405          0.794230              201  ...      0.189189   \n",
       "3        83.358974          0.810777              315  ...      0.076923   \n",
       "4       143.742857          0.819464              241  ...      0.200000   \n",
       "\n",
       "   avg_pct_Error  sum_nb_SubmitDowngrade  avg_nb_SubmitDowngrade  \\\n",
       "0       0.000509                       1                0.024390   \n",
       "1       0.000510                       1                0.025000   \n",
       "2       0.000785                       1                0.027027   \n",
       "3       0.001261                       0                0.000000   \n",
       "4       0.000822                       2                0.057143   \n",
       "\n",
       "   avg_pct_SubmitDowngrade  sum_nb_logs  avg_nb_logs  avg_pct_logs  churn  \\\n",
       "0                 0.000400         6147   149.926829           1.0      0   \n",
       "1                 0.000115         5051   126.275000           1.0      1   \n",
       "2                 0.000106         4731   127.864865           1.0      0   \n",
       "3                 0.000000         3994   102.410256           1.0      1   \n",
       "4                 0.000394         5995   171.285714           1.0      1   \n",
       "\n",
       "   avg_active_days  \n",
       "0         0.820000  \n",
       "1         0.800000  \n",
       "2         0.740000  \n",
       "3         0.780000  \n",
       "4         0.714286  \n",
       "\n",
       "[5 rows x 41 columns]"
      ]
     },
     "execution_count": 9,
     "metadata": {},
     "output_type": "execute_result"
    }
   ],
   "source": [
    "%%time\n",
    "spark.sql(\"DROP TABLE IF EXISTS {}\".format(user_data_table)).collect()                            \n",
    "\n",
    "sql_create_user_data = \"\"\"\n",
    "    create table {USER_DATA_TABLE} \n",
    "        USING parquet\n",
    "    as (\n",
    "            select \n",
    "                l.*, \n",
    "                nvl(c.churn, 0) as churn,\n",
    "                (active_days / max_days_before_eval) as avg_active_days\n",
    "           from\n",
    "            (\n",
    "                select dl.userId, \n",
    "                (max(days_before_eval)+1) max_days_before_eval,\n",
    "                count(days_before_eval) active_days,\n",
    "                avg(nb_sessionId) avg_nb_session_per_day,\n",
    "                avg(nvl(sum_length,0)) avg_length_per_day,\n",
    "                avg(nvl(sum_length,0) / nb_sessionId) avg_length_per_session,\n",
    "                {DAILY_STATS_ON_METRICS_OF_INTEREST}\n",
    "                from {USER_DAILY_LOGS_TABLE} dl\n",
    "                group by userId\n",
    "            ) as l left join {USER_CHURN_TABLE} c on l.userId = c.userId\n",
    "        )\n",
    "\"\"\".format(**{\n",
    "        \"USER_DATA_TABLE\" : user_data_table,\n",
    "        \"USER_DAILY_LOGS_TABLE\" : user_daily_logs_table,\n",
    "        \"USER_CHURN_TABLE\" : user_churn_table,\n",
    "        \"DAILY_STATS_ON_METRICS_OF_INTEREST\" : str_user_stats_on_metrics_of_interest\n",
    "    \n",
    "    })\n",
    "\n",
    "ret_sql_create_user_data = spark.sql(sql_create_user_data).collect()\n",
    "spark.sql(\"select * from {}\".format(user_data_table)).toPandas().head()\n"
   ]
  },
  {
   "cell_type": "markdown",
   "id": "streaming-timer",
   "metadata": {},
   "source": [
    "# Evaluation period\n",
    "- The evaluation period is the one during which we are going to predict the cancelation\n",
    "- A table was created to list the users for which we have some logs and the Cancellation could be predicted\n",
    "\n",
    "### the giga file \"sparkify_event_data.json\" \n",
    "- During the evaluation period between the 20/11/2018 and the 04/12/2018, 1512 (10%) of the 15349 users will Cancel their contract or downgrade to a free one.\n",
    "\n",
    "\n",
    "We need know to build the features one the user level that could predict that event. "
   ]
  },
  {
   "cell_type": "code",
   "execution_count": 10,
   "id": "later-reconstruction",
   "metadata": {},
   "outputs": [
    {
     "name": "stdout",
     "output_type": "stream",
     "text": [
      "+-----+--------+\n",
      "|churn|nb_users|\n",
      "+-----+--------+\n",
      "|    1|    1593|\n",
      "|    0|   20450|\n",
      "+-----+--------+\n",
      "\n"
     ]
    }
   ],
   "source": [
    "sql_check_cancellation = \"select churn, count(*) nb_users from {} group by churn\".format(user_data_table)\n",
    "\n",
    "df_check_cancellation = spark.sql(sql_check_cancellation)\n",
    "df_check_cancellation.show()\n"
   ]
  },
  {
   "cell_type": "code",
   "execution_count": null,
   "id": "distinct-colombia",
   "metadata": {},
   "outputs": [],
   "source": []
  },
  {
   "cell_type": "code",
   "execution_count": null,
   "id": "quarterly-anthony",
   "metadata": {},
   "outputs": [],
   "source": []
  }
 ],
 "metadata": {
  "kernelspec": {
   "display_name": "Python 3",
   "language": "python",
   "name": "python3"
  },
  "language_info": {
   "codemirror_mode": {
    "name": "ipython",
    "version": 3
   },
   "file_extension": ".py",
   "mimetype": "text/x-python",
   "name": "python",
   "nbconvert_exporter": "python",
   "pygments_lexer": "ipython3",
   "version": "3.6.13"
  }
 },
 "nbformat": 4,
 "nbformat_minor": 5
}
